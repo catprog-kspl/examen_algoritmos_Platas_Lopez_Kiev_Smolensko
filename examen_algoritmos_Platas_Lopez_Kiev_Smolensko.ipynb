{
  "nbformat": 4,
  "nbformat_minor": 0,
  "metadata": {
    "colab": {
      "provenance": [],
      "authorship_tag": "ABX9TyMo5zj52jMHOTXAeJUKC6cm",
      "include_colab_link": true
    },
    "kernelspec": {
      "name": "python3",
      "display_name": "Python 3"
    },
    "language_info": {
      "name": "python"
    }
  },
  "cells": [
    {
      "cell_type": "markdown",
      "metadata": {
        "id": "view-in-github",
        "colab_type": "text"
      },
      "source": [
        "<a href=\"https://colab.research.google.com/github/catprog-kspl/examen_algoritmos_Platas_Lopez_Kiev_Smolensko/blob/main/examen_algoritmos_Platas_Lopez_Kiev_Smolensko.ipynb\" target=\"_parent\"><img src=\"https://colab.research.google.com/assets/colab-badge.svg\" alt=\"Open In Colab\"/></a>"
      ]
    },
    {
      "cell_type": "code",
      "execution_count": 63,
      "metadata": {
        "colab": {
          "base_uri": "https://localhost:8080/"
        },
        "id": "TkLDSPsZLItL",
        "outputId": "b31b1fb6-29a1-4f81-df23-1fd46417f177"
      },
      "outputs": [
        {
          "name": "stdout",
          "output_type": "stream",
          "text": [
            "Ingrese el valor 1 para la lista a:17\n",
            "Ingrese el valor 1 para la lista b:99\n",
            "Ingrese el valor 2 para la lista a:28\n",
            "Ingrese el valor 2 para la lista b:16\n",
            "Ingrese el valor 3 para la lista a:30\n",
            "Ingrese el valor 3 para la lista b:8\n"
          ]
        }
      ],
      "source": [
        "\n",
        "#Ejercicio 1\n",
        "\n",
        "\n",
        "#definimos las listas que se utilixaran\n",
        "a=[]\n",
        "b=[]\n",
        "flag=True\n",
        "#Se capturan los tres valores que se desean\n",
        "\n",
        "for x in range(3):#iteracion para la captura de los valores  \n",
        "        valorA=int(input(\"Ingrese el valor \"+str(x + 1)+\" para la lista a:\"))#Captura de datos de la lista a\n",
        "        if(valorA >= 1 and valorA <= 100):\n",
        "          a.append(valorA)#persistencia de los datos en la lista a\n",
        "        else:\n",
        "          valorA=int(input(\"Ingrese entre 1 y 100 para el valor \"+str(x + 1)+\" para la lista a:\"))#Captura de datos de la lista a\n",
        "          a.append(valorA)#persistencia de los datos en la lista a\n",
        "        valorB=int(input(\"Ingrese el valor \"+str(x + 1)+\" para la lista b:\"))#Captura de datos de la lista b\n",
        "        if(valorB >= 1 and valorB <= 100):\n",
        "          b.append(valorB)#persistencia de los datos en la lista b  \n",
        "        else:\n",
        "          valorB=int(input(\"Ingrese entre 1 y 100 para el valor \"+str(x + 1)+\" para la lista b:\"))#Captura de datos de la lista a\n",
        "          a.append(valorB)#persistencia de los datos en la lista a\n",
        "\n",
        "  "
      ]
    },
    {
      "cell_type": "code",
      "source": [
        "#Se inicializan las variables\n",
        "alice=0\n",
        "bob=0\n",
        "#Se iteran las listas para poder manipular sus indices y sus valores\n",
        "for i in range(len(a)):\n",
        "      for j in range(len(b)):\n",
        "        #Se verifica en las listas para que se cumpla la siguiente regla: Encontrar sus puntos de comparación comparando a[0] con b[0], a[1] con b[1] y a[2] con b[2]\n",
        "          if i == j:\n",
        "            #Se realizan las comparaciones pertienentes y se utiliza un contador para almacenar los puntos de cada persona\n",
        "              if a[i] > b[j]:\n",
        "                    alice+=1\n",
        "              if a[i] < b[j]:\n",
        "                      bob += 1\n",
        "              if a[i] == b[j]:\n",
        "                      print('En el caso de '+str(a[i])+' y '+str(b[j])+' nadie obtiene puntos')  \n",
        "\n",
        "#Se muestran los resultados\n",
        "print('Alice obtuvo: '+str(alice))\n",
        "print('Bob obtuvo: '+str(bob))\n",
        "\n",
        "        \n",
        "\n",
        "    "
      ],
      "metadata": {
        "colab": {
          "base_uri": "https://localhost:8080/"
        },
        "id": "ed1RY7omgYE4",
        "outputId": "30ccbd11-58cc-43ba-ea84-b2df72b04a58"
      },
      "execution_count": 64,
      "outputs": [
        {
          "output_type": "stream",
          "name": "stdout",
          "text": [
            "Alice obtuvo: 2\n",
            "Bob obtuvo: 1\n"
          ]
        }
      ]
    },
    {
      "cell_type": "code",
      "source": [
        "#Ejercicio 2\n",
        "#Dada una cadena de texto (string), obtener el número de veces que se repite cada\n",
        "#palabra del texto. El texto puede tener puntos y comas, puede tener palabras en\n",
        "#mayúsculas o minúsculas. Devolver resultado en JSON\n",
        "\n",
        "#Se define la cadena a evaluar\n",
        "cadenaPalabras = 'Érase una vez una niñita que lucía una hermosa capa de color rojo. Como la niña la usaba muy a menudo, todos la llamaban Caperucita Roja. Un día, la mamá de Caperucita Roja la llamó y le dijo: —Abuelita no se siente muy bien, he horneado unas galletitas y quiero que tú se las lleves. —Claro que sí —respondió Caperucita Roja, poniéndose su capa y llenando su canasta de galletas recién horneadas. Antes de salir, su mamá le dijo: — Escúchame muy bien, quédate en el camino y nunca hables con extraños. —Yo sé mamá —respondió Caperucita Roja y salió inmediatamente hacia la casa de la abuelita.'\n",
        "#Se crea una lista para almacenar las palabras en la cadena, observacion : split() nos permite separar las palabras\n",
        "listaPalabras = cadenaPalabras.split()\n",
        "#Se crea una nueva cadena para almacenar la cantidad de veces que se repiten las palabras\n",
        "frecuenciaPalab = []\n",
        "for w in listaPalabras:#Se itera la lista de palabras a contar\n",
        "    frecuenciaPalab.append(listaPalabras.count(w))#Se almacena la cantidad de palabras contadas\n",
        "\n",
        "list_of_tuples =  list(zip(listaPalabras, frecuenciaPalab))#Se contruye un array con las dos listas\n",
        "list_of_tuples_dict = dict(list_of_tuples)#La lista es convertida en un diccionario para que poseea el formato de un objeto json\n",
        "print(list_of_tuples_dict)#Se muestra en consola el resultado\n"
      ],
      "metadata": {
        "colab": {
          "base_uri": "https://localhost:8080/"
        },
        "id": "tIze-WbGR2oE",
        "outputId": "0f446f42-db0e-4ae9-c8d7-90f5a452afbe"
      },
      "execution_count": 61,
      "outputs": [
        {
          "output_type": "stream",
          "name": "stdout",
          "text": [
            "{'Érase': 1, 'una': 3, 'vez': 1, 'niñita': 1, 'que': 3, 'lucía': 1, 'hermosa': 1, 'capa': 2, 'de': 5, 'color': 1, 'rojo.': 1, 'Como': 1, 'la': 7, 'niña': 1, 'usaba': 1, 'muy': 3, 'a': 1, 'menudo,': 1, 'todos': 1, 'llamaban': 1, 'Caperucita': 4, 'Roja.': 1, 'Un': 1, 'día,': 1, 'mamá': 3, 'Roja': 2, 'llamó': 1, 'y': 5, 'le': 2, 'dijo:': 2, '—Abuelita': 1, 'no': 1, 'se': 2, 'siente': 1, 'bien,': 2, 'he': 1, 'horneado': 1, 'unas': 1, 'galletitas': 1, 'quiero': 1, 'tú': 1, 'las': 1, 'lleves.': 1, '—Claro': 1, 'sí': 1, '—respondió': 2, 'Roja,': 1, 'poniéndose': 1, 'su': 3, 'llenando': 1, 'canasta': 1, 'galletas': 1, 'recién': 1, 'horneadas.': 1, 'Antes': 1, 'salir,': 1, '—': 1, 'Escúchame': 1, 'quédate': 1, 'en': 1, 'el': 1, 'camino': 1, 'nunca': 1, 'hables': 1, 'con': 1, 'extraños.': 1, '—Yo': 1, 'sé': 1, 'salió': 1, 'inmediatamente': 1, 'hacia': 1, 'casa': 1, 'abuelita.': 1}\n"
          ]
        }
      ]
    }
  ]
}